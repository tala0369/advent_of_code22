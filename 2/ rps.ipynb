{
 "cells": [
  {
   "cell_type": "code",
   "execution_count": 4,
   "metadata": {},
   "outputs": [],
   "source": [
    "import itertools\n",
    "from pprint import pprint"
   ]
  },
  {
   "cell_type": "code",
   "execution_count": 12,
   "metadata": {},
   "outputs": [
    {
     "name": "stdout",
     "output_type": "stream",
     "text": [
      "[{'elf_pick_score': 1,\n",
      "  'elf_result': 'Rock',\n",
      "  'elf_score': 3,\n",
      "  'my_pick_score': 1,\n",
      "  'my_result': 'Rock',\n",
      "  'my_score': 3},\n",
      " {'elf_pick_score': 1,\n",
      "  'elf_result': 'Rock',\n",
      "  'elf_score': 0,\n",
      "  'my_pick_score': 2,\n",
      "  'my_result': 'Paper',\n",
      "  'my_score': 6},\n",
      " {'elf_pick_score': 1,\n",
      "  'elf_result': 'Rock',\n",
      "  'elf_score': 6,\n",
      "  'my_pick_score': 3,\n",
      "  'my_result': 'Scissors',\n",
      "  'my_score': 0},\n",
      " {'elf_pick_score': 2,\n",
      "  'elf_result': 'Paper',\n",
      "  'elf_score': 6,\n",
      "  'my_pick_score': 1,\n",
      "  'my_result': 'Rock',\n",
      "  'my_score': 0},\n",
      " {'elf_pick_score': 2,\n",
      "  'elf_result': 'Paper',\n",
      "  'elf_score': 3,\n",
      "  'my_pick_score': 2,\n",
      "  'my_result': 'Paper',\n",
      "  'my_score': 3},\n",
      " {'elf_pick_score': 2,\n",
      "  'elf_result': 'Paper',\n",
      "  'elf_score': 0,\n",
      "  'my_pick_score': 3,\n",
      "  'my_result': 'Scissors',\n",
      "  'my_score': 6},\n",
      " {'elf_pick_score': 3,\n",
      "  'elf_result': 'Scissors',\n",
      "  'elf_score': 0,\n",
      "  'my_pick_score': 1,\n",
      "  'my_result': 'Rock',\n",
      "  'my_score': 6},\n",
      " {'elf_pick_score': 3,\n",
      "  'elf_result': 'Scissors',\n",
      "  'elf_score': 6,\n",
      "  'my_pick_score': 2,\n",
      "  'my_result': 'Paper',\n",
      "  'my_score': 0},\n",
      " {'elf_pick_score': 3,\n",
      "  'elf_result': 'Scissors',\n",
      "  'elf_score': 3,\n",
      "  'my_pick_score': 3,\n",
      "  'my_result': 'Scissors',\n",
      "  'my_score': 3}]\n"
     ]
    }
   ],
   "source": [
    "opts = [\"Rock\", \"Paper\", \"Scissors\"]\n",
    "cross = itertools.product(opts, opts)\n",
    "\n",
    "WIN_LOSE_MATRIX = [\n",
    "    [0, 1, -1],\n",
    "    [-1, 0, 1],\n",
    "    [1, -1, 0]\n",
    "]\n",
    "\n",
    "matrix = []\n",
    "for (elf_result, my_result) in cross:\n",
    "    elf_index = opts.index(elf_result)\n",
    "    my_index = opts.index(my_result)\n",
    "    result = WIN_LOSE_MATRIX[my_index][elf_index]\n",
    "    elf_score = 3 + result*3\n",
    "    my_score = 3 + result*-3\n",
    "    result = {\n",
    "        \"elf_result\": elf_result,\n",
    "        \"my_result\": my_result,\n",
    "        \"elf_pick_score\": 1+opts.index(elf_result),\n",
    "        \"my_pick_score\": 1+opts.index(my_result),\n",
    "        \"elf_score\": elf_score,\n",
    "        \"my_score\": my_score\n",
    "    }\n",
    "    matrix.append(result)\n",
    "pprint(matrix)"
   ]
  },
  {
   "cell_type": "code",
   "execution_count": 20,
   "metadata": {},
   "outputs": [
    {
     "name": "stdout",
     "output_type": "stream",
     "text": [
      "27\n",
      "1\n",
      "32\n",
      "6\n"
     ]
    }
   ],
   "source": [
    "import string\n",
    "def get_alpha_index(char):\n",
    "    ind = string.ascii_letters.index(char) + 1\n",
    "    return ind\n",
    "print(get_alpha_index(\"A\"))\n",
    "print(get_alpha_index(\"a\"))\n",
    "print(get_alpha_index(\"F\"))\n",
    "print(get_alpha_index(\"f\"))"
   ]
  },
  {
   "cell_type": "code",
   "execution_count": null,
   "metadata": {},
   "outputs": [],
   "source": []
  }
 ],
 "metadata": {
  "kernelspec": {
   "display_name": "Python 3.9.5 64-bit ('3.9.5')",
   "language": "python",
   "name": "python3"
  },
  "language_info": {
   "codemirror_mode": {
    "name": "ipython",
    "version": 3
   },
   "file_extension": ".py",
   "mimetype": "text/x-python",
   "name": "python",
   "nbconvert_exporter": "python",
   "pygments_lexer": "ipython3",
   "version": "3.9.5"
  },
  "orig_nbformat": 4,
  "vscode": {
   "interpreter": {
    "hash": "bca22582df1bd15e350ef5bc573173f993a09c5e63e57e9ac92fed0eac4604c8"
   }
  }
 },
 "nbformat": 4,
 "nbformat_minor": 2
}
